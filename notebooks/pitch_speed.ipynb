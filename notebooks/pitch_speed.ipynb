{
 "cells": [
  {
   "cell_type": "code",
   "execution_count": null,
   "id": "cd31d74d",
   "metadata": {},
   "outputs": [],
   "source": [
    "import pandas as pd\n",
    "\n",
    "# Load your original dataset (before grouping pitch types)\n",
    "df = pd.read_csv(\"../data/mlb_pitch_data_2024.csv\")  \n",
    "\n",
    "# Map pitch types to groups \n",
    "pitch_type_map = {\n",
    "    'FF': 'Fastball', 'FT': 'Fastball', 'SI': 'Fastball', 'FC': 'Fastball', 'FS': 'Fastball',\n",
    "    'SL': 'Breaking', 'ST': 'Breaking', 'CU': 'Breaking', 'KC': 'Breaking',\n",
    "    'CH': 'Offspeed', 'SC': 'Offspeed',\n",
    "    'KN': 'Other', 'EP': 'Other', 'FO': 'Other'\n",
    "}\n",
    "df['pitch_type_group'] = df['pitch_type'].map(pitch_type_map)\n",
    "\n",
    "# Drop rows with missing values\n",
    "df = df.dropna(subset=['pitcher', 'pitch_type_group', 'release_speed'])\n",
    "\n",
    "# Group by pitcher and pitch group to get average velocity\n",
    "avg_velocities = df.groupby(['pitcher', 'pitch_type_group'])['release_speed'].mean().reset_index()\n",
    "\n",
    "# Rename for clarity\n",
    "avg_velocities.columns = ['pitcher_id', 'pitch_type_group', 'avg_velocity']\n",
    "\n",
    "# Save as a JSON file\n",
    "avg_velocities.to_json(\"../data/avg_velocity_lookup.json\", orient=\"records\")\n"
   ]
  }
 ],
 "metadata": {
  "kernelspec": {
   "display_name": "base",
   "language": "python",
   "name": "python3"
  },
  "language_info": {
   "codemirror_mode": {
    "name": "ipython",
    "version": 3
   },
   "file_extension": ".py",
   "mimetype": "text/x-python",
   "name": "python",
   "nbconvert_exporter": "python",
   "pygments_lexer": "ipython3",
   "version": "3.12.3"
  }
 },
 "nbformat": 4,
 "nbformat_minor": 5
}
