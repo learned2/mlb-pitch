{
 "cells": [
  {
   "cell_type": "code",
   "execution_count": 15,
   "id": "9802bc35",
   "metadata": {},
   "outputs": [
    {
     "name": "stdout",
     "output_type": "stream",
     "text": [
      "   pitcher_id        dropdown\n",
      "0      605400      aaron nola\n",
      "0      641927     bailey ober\n",
      "0      605483     blake snell\n",
      "0      694297  brandon pfaadt\n",
      "0      656271     brock burke\n"
     ]
    }
   ],
   "source": [
    "from pybaseball import playerid_lookup\n",
    "import pandas as pd\n",
    "\n",
    "names = [\n",
    "    \"Spencer Strider\", \"Chris Sale\", \"Gerrit Cole\",\"Joe Musgrove\",\"Framber Valdez\", \"Zach Wheeler\", \"Corbin Burnes\", \"Pablo López\",\n",
    "    \"Luis Castillo\", \"Logan Webb\", \"George Kirby\", \"Kevin Gausman\", \"Yoshinobu Yamamoto\",\n",
    "    \"Aaron Nola\", \"Zac Gallen\", \"Tyler Glasnow\", \"Max Fried\", \"Blake Snell\", \"Kyle Bradish\", \"Sonny Gray\", \"Bailey Ober\", \"Miles Mikolas\", \"Brandon Pfaadt\", \n",
    "    \"Logan Gilbert\", \"Freddy Peralta\", \"Zach Effin\", \"Kodai Senga\", \"Tarik Skubal\",\n",
    "    \"Grayson Rodríguez\", \"Justin Steele\", \"Justin Verlander\", \"Tanner Houck\", \"Jake Irvin\",\n",
    "    \"Paul Skenes\", \"Tyler Anderson\", \"Gavin Stone\", \"Josh Hader\", \"Tanner Scott\",\n",
    "    \"Luke Jackson\", \"Jeff Hoffman\", \"Ryan Walker\", \"A.J. Puk\", \"Edwin Diaz\", \"Ryan Pressly\",\n",
    "    \"Kenley Jansen\", \"Shota Imanaga\", \"Brock Burke\", \"Ryan Zeferjahn\", \"Jack Leiter\",\n",
    "    \"Casey Mize\"\n",
    "]\n",
    "\n",
    "split_names = [name.split(maxsplit=1) for name in names]\n",
    "\n",
    "results = []\n",
    "for first, last in split_names:\n",
    "    try:\n",
    "        result = playerid_lookup(last, first)\n",
    "        if not result.empty:\n",
    "            results.append(result.iloc[0])\n",
    "    except Exception:\n",
    "        continue\n",
    "\n",
    "df = pd.DataFrame(results)\n",
    "df['dropdown'] = df['name_first'] + ' ' + df['name_last']\n",
    "df = df[['key_mlbam', 'dropdown']].drop_duplicates().sort_values('dropdown')\n",
    "df = df.rename(columns={'key_mlbam': 'pitcher_id'})\n",
    "\n",
    "# Save as HTML <option> list\n",
    "with open(\"pitchers_dropdown.html\", \"w\") as f:\n",
    "    for _, row in df.iterrows():\n",
    "        f.write(f'<option value=\"{row[\"pitcher_id\"]}\">{row[\"dropdown\"]}</option>\\n')\n",
    "\n",
    "# Preview\n",
    "print(df.head())\n"
   ]
  }
 ],
 "metadata": {
  "kernelspec": {
   "display_name": "base",
   "language": "python",
   "name": "python3"
  },
  "language_info": {
   "codemirror_mode": {
    "name": "ipython",
    "version": 3
   },
   "file_extension": ".py",
   "mimetype": "text/x-python",
   "name": "python",
   "nbconvert_exporter": "python",
   "pygments_lexer": "ipython3",
   "version": "3.12.3"
  }
 },
 "nbformat": 4,
 "nbformat_minor": 5
}
